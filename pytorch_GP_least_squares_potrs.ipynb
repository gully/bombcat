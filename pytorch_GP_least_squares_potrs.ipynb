{
 "cells": [
  {
   "cell_type": "code",
   "execution_count": 1,
   "metadata": {},
   "outputs": [],
   "source": [
    "import torch"
   ]
  },
  {
   "cell_type": "code",
   "execution_count": 2,
   "metadata": {},
   "outputs": [],
   "source": [
    "dtype = torch.FloatTensor\n",
    "# dtype = torch.cuda.FloatTensor # Uncomment this to run on GPU"
   ]
  },
  {
   "cell_type": "code",
   "execution_count": 3,
   "metadata": {},
   "outputs": [],
   "source": [
    "true_m, true_b = 0.5, -0.25\n",
    "N = 50\n",
    "x = torch.linspace(-5, 5, N).type(dtype)\n",
    "y = true_m * x + true_b\n",
    "\n",
    "#Introduce some noise with both measurement uncertainties\n",
    "#   and non-trivial correlated errors.\n",
    "yerr = 0.1 + 0.4 * torch.rand(N).type(dtype)\n",
    "yerr_hom = 0.4*torch.ones(N).type(dtype)\n",
    "hom_cov = torch.diag(yerr_hom ** 2).type(dtype)\n",
    "iid_cov = torch.diag(yerr ** 2).type(dtype)\n",
    "true_cov = 0.5 * torch.exp(-0.5 * (x[:, None]-x[None, :])**2 / 1.3**2) + torch.diag(yerr ** 2)"
   ]
  },
  {
   "cell_type": "markdown",
   "metadata": {},
   "source": [
    "Multivariate normal is now in the master branch of pytorch as of v 0.4!"
   ]
  },
  {
   "cell_type": "code",
   "execution_count": 4,
   "metadata": {},
   "outputs": [],
   "source": [
    "y_draw = torch.distributions.multivariate_normal.MultivariateNormal(y, covariance_matrix=true_cov).sample()"
   ]
  },
  {
   "cell_type": "code",
   "execution_count": 5,
   "metadata": {},
   "outputs": [
    {
     "data": {
      "text/plain": [
       "torch.float32"
      ]
     },
     "execution_count": 5,
     "metadata": {},
     "output_type": "execute_result"
    }
   ],
   "source": [
    "y_draw.dtype"
   ]
  },
  {
   "cell_type": "code",
   "execution_count": 6,
   "metadata": {},
   "outputs": [],
   "source": [
    "A = torch.ones((N,2))\n",
    "A[:, 0] = x\n",
    "\n",
    "AT= A.t()\n",
    "C = true_cov"
   ]
  },
  {
   "cell_type": "code",
   "execution_count": 7,
   "metadata": {},
   "outputs": [],
   "source": [
    "factor = torch.potrf(C)"
   ]
  },
  {
   "cell_type": "code",
   "execution_count": 8,
   "metadata": {},
   "outputs": [],
   "source": [
    "S_inv = torch.mm(AT, torch.potrs(A, factor))"
   ]
  },
  {
   "cell_type": "code",
   "execution_count": 9,
   "metadata": {},
   "outputs": [],
   "source": [
    "S = torch.inverse(S_inv)"
   ]
  },
  {
   "cell_type": "code",
   "execution_count": 10,
   "metadata": {},
   "outputs": [],
   "source": [
    "mean_w = torch.mm(S, torch.mm(AT, torch.potrs(y, factor)))"
   ]
  },
  {
   "cell_type": "code",
   "execution_count": 11,
   "metadata": {},
   "outputs": [
    {
     "data": {
      "text/plain": [
       "tensor([[ 0.5000],\n",
       "        [-0.2500]])"
      ]
     },
     "execution_count": 11,
     "metadata": {},
     "output_type": "execute_result"
    }
   ],
   "source": [
    "mean_w"
   ]
  },
  {
   "cell_type": "code",
   "execution_count": 12,
   "metadata": {},
   "outputs": [
    {
     "data": {
      "text/plain": [
       "torch.cuda.FloatTensor"
      ]
     },
     "execution_count": 12,
     "metadata": {},
     "output_type": "execute_result"
    }
   ],
   "source": [
    "torch.cuda.FloatTensor"
   ]
  },
  {
   "cell_type": "code",
   "execution_count": 23,
   "metadata": {},
   "outputs": [
    {
     "data": {
      "text/plain": [
       "tensor([[ -1.9573],\n",
       "        [ -2.7257],\n",
       "        [ -0.2089],\n",
       "        [ -4.9481],\n",
       "        [  6.6254],\n",
       "        [ -0.2063],\n",
       "        [ -1.3462],\n",
       "        [ -2.1594],\n",
       "        [ -2.6813],\n",
       "        [ -2.4262],\n",
       "        [  0.5936],\n",
       "        [  0.9059],\n",
       "        [ 16.5186],\n",
       "        [ -9.2776],\n",
       "        [  2.2088],\n",
       "        [ -3.4867],\n",
       "        [ -8.1545],\n",
       "        [ -0.3117],\n",
       "        [ -2.2557],\n",
       "        [ -0.1122],\n",
       "        [ -1.7781],\n",
       "        [  9.7956],\n",
       "        [  1.9983],\n",
       "        [ -3.3782],\n",
       "        [ -0.3763],\n",
       "        [  9.5655],\n",
       "        [ -7.7860],\n",
       "        [ -3.7563],\n",
       "        [ -4.6705],\n",
       "        [  1.4635],\n",
       "        [  1.0612],\n",
       "        [  1.1276],\n",
       "        [  5.2580],\n",
       "        [ -5.5185],\n",
       "        [  1.0272],\n",
       "        [  3.4027],\n",
       "        [ -0.7522],\n",
       "        [  1.5756],\n",
       "        [  5.1021],\n",
       "        [ -3.2521],\n",
       "        [ -0.7761],\n",
       "        [  0.1729],\n",
       "        [ -2.3283],\n",
       "        [  1.3841],\n",
       "        [  3.3806],\n",
       "        [ -7.0258],\n",
       "        [  5.7635],\n",
       "        [ -1.6885],\n",
       "        [  3.5176],\n",
       "        [  0.6798]])"
      ]
     },
     "execution_count": 23,
     "metadata": {},
     "output_type": "execute_result"
    }
   ],
   "source": [
    "torch.potrs(y_draw.reshape(50, 1), factor)"
   ]
  },
  {
   "cell_type": "code",
   "execution_count": null,
   "metadata": {},
   "outputs": [],
   "source": [
    "torch.potrf()"
   ]
  },
  {
   "cell_type": "code",
   "execution_count": null,
   "metadata": {},
   "outputs": [],
   "source": []
  },
  {
   "cell_type": "code",
   "execution_count": 13,
   "metadata": {},
   "outputs": [
    {
     "ename": "TypeError",
     "evalue": "inverse() missing 1 required positional arguments: \"input\"",
     "output_type": "error",
     "traceback": [
      "\u001b[0;31m---------------------------------------------------------------------------\u001b[0m",
      "\u001b[0;31mTypeError\u001b[0m                                 Traceback (most recent call last)",
      "\u001b[0;32m<ipython-input-13-d16e68f27c60>\u001b[0m in \u001b[0;36m<module>\u001b[0;34m()\u001b[0m\n\u001b[0;32m----> 1\u001b[0;31m \u001b[0mtorch\u001b[0m\u001b[0;34m.\u001b[0m\u001b[0minverse\u001b[0m\u001b[0;34m(\u001b[0m\u001b[0;34m)\u001b[0m\u001b[0;34m\u001b[0m\u001b[0m\n\u001b[0m",
      "\u001b[0;31mTypeError\u001b[0m: inverse() missing 1 required positional arguments: \"input\""
     ]
    }
   ],
   "source": [
    "torch.inverse()"
   ]
  },
  {
   "cell_type": "code",
   "execution_count": 18,
   "metadata": {},
   "outputs": [],
   "source": [
    "mm = mean_w[0]"
   ]
  },
  {
   "cell_type": "code",
   "execution_count": 31,
   "metadata": {},
   "outputs": [
    {
     "data": {
      "text/plain": [
       "tensor([[ 0.2500, -0.1250],\n",
       "        [-0.1250,  0.0625]])"
      ]
     },
     "execution_count": 31,
     "metadata": {},
     "output_type": "execute_result"
    }
   ],
   "source": [
    "torch.mm(mean_w, mean_w.t())"
   ]
  },
  {
   "cell_type": "code",
   "execution_count": 25,
   "metadata": {},
   "outputs": [
    {
     "name": "stdout",
     "output_type": "stream",
     "text": [
      "0.4999999701976776\n"
     ]
    }
   ],
   "source": [
    "print(\"{}\".format(mm[0]))"
   ]
  },
  {
   "cell_type": "code",
   "execution_count": 10,
   "metadata": {},
   "outputs": [
    {
     "ename": "AttributeError",
     "evalue": "module 'torch.distributions' has no attribute 'multivariate_normal'",
     "output_type": "error",
     "traceback": [
      "\u001b[0;31m---------------------------------------------------------------------------\u001b[0m",
      "\u001b[0;31mAttributeError\u001b[0m                            Traceback (most recent call last)",
      "\u001b[0;32m<ipython-input-10-c4037412bdaf>\u001b[0m in \u001b[0;36m<module>\u001b[0;34m()\u001b[0m\n\u001b[0;32m----> 1\u001b[0;31m \u001b[0mtorch\u001b[0m\u001b[0;34m.\u001b[0m\u001b[0mdistributions\u001b[0m\u001b[0;34m.\u001b[0m\u001b[0mmultivariate_normal\u001b[0m\u001b[0;34m.\u001b[0m\u001b[0mMultivariateNorma\u001b[0m\u001b[0;34m\u001b[0m\u001b[0m\n\u001b[0m",
      "\u001b[0;31mAttributeError\u001b[0m: module 'torch.distributions' has no attribute 'multivariate_normal'"
     ]
    }
   ],
   "source": [
    "torch.distributions.mul"
   ]
  },
  {
   "cell_type": "code",
   "execution_count": null,
   "metadata": {},
   "outputs": [],
   "source": [
    "torch.distributions.multivar"
   ]
  },
  {
   "cell_type": "code",
   "execution_count": null,
   "metadata": {},
   "outputs": [],
   "source": []
  }
 ],
 "metadata": {
  "kernelspec": {
   "display_name": "Python 3",
   "language": "python",
   "name": "python3"
  },
  "language_info": {
   "codemirror_mode": {
    "name": "ipython",
    "version": 3
   },
   "file_extension": ".py",
   "mimetype": "text/x-python",
   "name": "python",
   "nbconvert_exporter": "python",
   "pygments_lexer": "ipython3",
   "version": "3.6.3"
  }
 },
 "nbformat": 4,
 "nbformat_minor": 2
}
